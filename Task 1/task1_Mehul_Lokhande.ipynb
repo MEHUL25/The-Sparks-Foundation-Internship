{
  "nbformat": 4,
  "nbformat_minor": 0,
  "metadata": {
    "colab": {
      "name": "task1.ipynb",
      "provenance": []
    },
    "kernelspec": {
      "name": "python3",
      "display_name": "Python 3"
    }
  },
  "cells": [
    {
      "cell_type": "markdown",
      "metadata": {
        "id": "N89xuR86pXLr"
      },
      "source": [
        "**The Sparks Foundation Internship**\r\n",
        "\r\n",
        "Domain : **Data Science & Business Analytics**\r\n",
        "\r\n",
        "Name : Mehul Lokhande"
      ]
    },
    {
      "cell_type": "markdown",
      "metadata": {
        "id": "wS_s_f5npXIu"
      },
      "source": [
        "**Task 1**"
      ]
    },
    {
      "cell_type": "markdown",
      "metadata": {
        "id": "cp5F4JkrpXDi"
      },
      "source": [
        "**--------------------------------------------------------------------------------------------------------------**\r\n",
        "\r\n",
        "**Problem :** \r\n",
        "\r\n",
        "Prediction using Supervised ML\r\n",
        "(Level - Beginner)\r\n",
        "\r\n",
        "● Predict the percentage of an student based on the no. of study hours.\r\n",
        "\r\n",
        "● Data can be found at http://bit.ly/w-data\r\n",
        "\r\n",
        "**-----------------------------------------------------------------------------------------------------------**"
      ]
    },
    {
      "cell_type": "markdown",
      "metadata": {
        "id": "NV3s-JdWpVN_"
      },
      "source": [
        "**1) Importing the Libraries**"
      ]
    },
    {
      "cell_type": "code",
      "metadata": {
        "id": "eyUK21GgpIPX"
      },
      "source": [
        "import pandas as pd\r\n",
        "import seaborn as sns\r\n",
        "from sklearn.model_selection import train_test_split\r\n",
        "from sklearn.linear_model import LinearRegression\r\n",
        "from sklearn.metrics import mean_absolute_error\r\n",
        "import numpy as np  \r\n",
        "import matplotlib.pyplot as plt\r\n",
        "%matplotlib inline"
      ],
      "execution_count": null,
      "outputs": []
    },
    {
      "cell_type": "markdown",
      "metadata": {
        "id": "Q30wWKhFpyTY"
      },
      "source": [
        "**2) Importing dataset**"
      ]
    },
    {
      "cell_type": "code",
      "metadata": {
        "colab": {
          "base_uri": "https://localhost:8080/"
        },
        "id": "47dgGsrppbMD",
        "outputId": "2163b369-46f2-44cd-ea97-17919de81857"
      },
      "source": [
        "url = \"http://bit.ly/w-data\"\r\n",
        "data = pd.read_csv(url)\r\n",
        "print(\"Data imported\")"
      ],
      "execution_count": null,
      "outputs": [
        {
          "output_type": "stream",
          "text": [
            "Data imported\n"
          ],
          "name": "stdout"
        }
      ]
    },
    {
      "cell_type": "markdown",
      "metadata": {
        "id": "41MWD4Oqp_lH"
      },
      "source": [
        "**3) Visualising Dataset**"
      ]
    },
    {
      "cell_type": "code",
      "metadata": {
        "colab": {
          "base_uri": "https://localhost:8080/"
        },
        "id": "fSN5HJ3nEx6j",
        "outputId": "603b799c-ce8c-4783-c7e4-af20a1105cfc"
      },
      "source": [
        "print(\"Dataset: \",data.shape)\r\n",
        "print(\"Dataset Size: \",data.size)\r\n",
        "print(\"Head Elements: \",data.head())\r\n",
        "print(\"Tail Elements: \",data.tail())"
      ],
      "execution_count": null,
      "outputs": [
        {
          "output_type": "stream",
          "text": [
            "Dataset:  (25, 2)\n",
            "Dataset Size:  50\n",
            "Head Elements:     Hours  Scores\n",
            "0    2.5      21\n",
            "1    5.1      47\n",
            "2    3.2      27\n",
            "3    8.5      75\n",
            "4    3.5      30\n",
            "Tail Elements:      Hours  Scores\n",
            "20    2.7      30\n",
            "21    4.8      54\n",
            "22    3.8      35\n",
            "23    6.9      76\n",
            "24    7.8      86\n"
          ],
          "name": "stdout"
        }
      ]
    },
    {
      "cell_type": "markdown",
      "metadata": {
        "id": "oHissxOqKNJU"
      },
      "source": [
        "**4) Creating a dataframe**"
      ]
    },
    {
      "cell_type": "code",
      "metadata": {
        "id": "LqXINMWTP4jC"
      },
      "source": [
        "#Creating Dataframe\r\n",
        "df = pd.DataFrame(data)\r\n",
        "\r\n",
        "hours = df['Hours'].head(12) \r\n",
        "scores = df['Scores'].head(12) "
      ],
      "execution_count": null,
      "outputs": []
    },
    {
      "cell_type": "markdown",
      "metadata": {
        "id": "hdvAY_mqP4_Q"
      },
      "source": [
        "**5) Bar Plot of Dataset**"
      ]
    },
    {
      "cell_type": "code",
      "metadata": {
        "colab": {
          "base_uri": "https://localhost:8080/",
          "height": 466
        },
        "id": "VexVnArYp7OA",
        "outputId": "37e50fbd-6c93-42a7-9618-42292d52981f"
      },
      "source": [
        "# Figure Size \r\n",
        "fig = plt.figure(figsize =(10, 7)) \r\n",
        "\r\n",
        "# Horizontal Bar Plot \r\n",
        "plt.bar(hours, scores) \r\n",
        "plt.title('Marks Vs Study Hours',size=20)\r\n",
        "plt.ylabel('Marks Percentage', size=12)\r\n",
        "plt.xlabel('Hours Studied', size=12)\r\n",
        "  \r\n",
        "# Show Plot \r\n",
        "plt.show() "
      ],
      "execution_count": null,
      "outputs": [
        {
          "output_type": "display_data",
          "data": {
            "image/png": "[encoded data removed]",
            "text/plain": [
              "<Figure size 720x504 with 1 Axes>"
            ]
          },
          "metadata": {
            "tags": [],
            "needs_background": "light"
          }
        }
      ]
    },
    {
      "cell_type": "markdown",
      "metadata": {
        "id": "0jSpLwmYKSYe"
      },
      "source": [
        "**6) ScatterPlot for visualising Distribution of Scores**"
      ]
    },
    {
      "cell_type": "code",
      "metadata": {
        "colab": {
          "base_uri": "https://localhost:8080/",
          "height": 312
        },
        "id": "Uiv799dHKAnt",
        "outputId": "5417946b-dba5-4262-b43b-dc5033ec326b"
      },
      "source": [
        "# Figure Size \r\n",
        "fig = plt.figure(figsize =(10, 7)) \r\n",
        "\r\n",
        "#Scatter Plot\r\n",
        "data.plot(x='Hours', y='Scores', style='o')  \r\n",
        "plt.title('Hours vs Scores')  \r\n",
        "plt.xlabel('Hours Studied')  \r\n",
        "plt.ylabel('Percentage Scored')  \r\n",
        "plt.show()"
      ],
      "execution_count": null,
      "outputs": [
        {
          "output_type": "display_data",
          "data": {
            "text/plain": [
              "<Figure size 720x504 with 0 Axes>"
            ]
          },
          "metadata": {
            "tags": []
          }
        },
        {
          "output_type": "display_data",
          "data": {
            "image/png": "[encoded data removed]",
            "text/plain": [
              "<Figure size 432x288 with 1 Axes>"
            ]
          },
          "metadata": {
            "tags": [],
            "needs_background": "light"
          }
        }
      ]
    },
    {
      "cell_type": "markdown",
      "metadata": {
        "id": "9Dt4n8ImKRcK"
      },
      "source": [
        "**7) Ploting Regression Plot**"
      ]
    },
    {
      "cell_type": "code",
      "metadata": {
        "colab": {
          "base_uri": "https://localhost:8080/",
          "height": 458
        },
        "id": "13nz--IlK2sU",
        "outputId": "c432e5bb-5852-4ede-eb0c-35ccf594f527"
      },
      "source": [
        "# Figure Size \r\n",
        "fig = plt.figure(figsize =(10, 7)) \r\n",
        "\r\n",
        "#Regression Plot\r\n",
        "sns.regplot(x= data['Hours'], y= data['Scores'])\r\n",
        "plt.title('Regression Plot')\r\n",
        "plt.ylabel('Percentage Scored')\r\n",
        "plt.xlabel('Hours Studied')\r\n",
        "plt.show()"
      ],
      "execution_count": null,
      "outputs": [
        {
          "output_type": "display_data",
          "data": {
            "image/png": "[encoded data removed]",
            "text/plain": [
              "<Figure size 720x504 with 1 Axes>"
            ]
          },
          "metadata": {
            "tags": [],
            "needs_background": "light"
          }
        }
      ]
    },
    {
      "cell_type": "markdown",
      "metadata": {
        "id": "eKWuvuXgQdEL"
      },
      "source": [
        "**8) Observing Correlation**"
      ]
    },
    {
      "cell_type": "code",
      "metadata": {
        "colab": {
          "base_uri": "https://localhost:8080/"
        },
        "id": "cbcahox1LbVV",
        "outputId": "287226b0-20c3-46db-cf71-08977ee6265b"
      },
      "source": [
        "# Observing Correlation\r\n",
        "print(data.corr())"
      ],
      "execution_count": null,
      "outputs": [
        {
          "output_type": "stream",
          "text": [
            "           Hours    Scores\n",
            "Hours   1.000000  0.976191\n",
            "Scores  0.976191  1.000000\n"
          ],
          "name": "stdout"
        }
      ]
    },
    {
      "cell_type": "markdown",
      "metadata": {
        "id": "59YmI36oQihc"
      },
      "source": [
        "**There is a Linear relation between the 2 variables. So, Linear Regression() from sklearn can be used.**"
      ]
    },
    {
      "cell_type": "markdown",
      "metadata": {
        "id": "DN8ztnPiQ1kk"
      },
      "source": [
        "**9) Splitting the Dataset** in Training and Test Dataset"
      ]
    },
    {
      "cell_type": "code",
      "metadata": {
        "id": "9mbi0UVpL5Xg"
      },
      "source": [
        "# Spliting the Data in two\r\n",
        "train_X, test_X, train_y, test_y = train_test_split(data.iloc[:, :-1].values  ,data.iloc[:, 1].values, random_state = 0)"
      ],
      "execution_count": null,
      "outputs": []
    },
    {
      "cell_type": "markdown",
      "metadata": {
        "id": "8xkgVMUmQ9aE"
      },
      "source": [
        "**10) Training the Model**"
      ]
    },
    {
      "cell_type": "code",
      "metadata": {
        "colab": {
          "base_uri": "https://localhost:8080/"
        },
        "id": "w8O1JiB1Mjtb",
        "outputId": "8936b591-4d9a-43da-fc4b-a48c8029bdc7"
      },
      "source": [
        "regression = LinearRegression()\r\n",
        "regression.fit(train_X, train_y)\r\n",
        "print(\"Training Completed\")"
      ],
      "execution_count": null,
      "outputs": [
        {
          "output_type": "stream",
          "text": [
            "Training Completed\n"
          ],
          "name": "stdout"
        }
      ]
    },
    {
      "cell_type": "markdown",
      "metadata": {
        "id": "TgROKTRHRDye"
      },
      "source": [
        "**11) Testing the Model**"
      ]
    },
    {
      "cell_type": "code",
      "metadata": {
        "colab": {
          "base_uri": "https://localhost:8080/",
          "height": 254
        },
        "id": "XvFJjulEMpkC",
        "outputId": "9145b128-1112-4d78-9c2b-0de6bc2aa15c"
      },
      "source": [
        "pred_y = regression.predict(test_X)\r\n",
        "result = pd.DataFrame({'Hours': [i[0] for i in test_X], 'Actual Marks': test_y, 'Predicted Marks': [k for k in pred_y] })\r\n",
        "result\r\n"
      ],
      "execution_count": null,
      "outputs": [
        {
          "output_type": "execute_result",
          "data": {
            "text/html": [
              "<div>\n",
              "<style scoped>\n",
              "    .dataframe tbody tr th:only-of-type {\n",
              "        vertical-align: middle;\n",
              "    }\n",
              "\n",
              "    .dataframe tbody tr th {\n",
              "        vertical-align: top;\n",
              "    }\n",
              "\n",
              "    .dataframe thead th {\n",
              "        text-align: right;\n",
              "    }\n",
              "</style>\n",
              "<table border=\"1\" class=\"dataframe\">\n",
              "  <thead>\n",
              "    <tr style=\"text-align: right;\">\n",
              "      <th></th>\n",
              "      <th>Hours</th>\n",
              "      <th>Actual Marks</th>\n",
              "      <th>Predicted Marks</th>\n",
              "    </tr>\n",
              "  </thead>\n",
              "  <tbody>\n",
              "    <tr>\n",
              "      <th>0</th>\n",
              "      <td>1.5</td>\n",
              "      <td>20</td>\n",
              "      <td>16.844722</td>\n",
              "    </tr>\n",
              "    <tr>\n",
              "      <th>1</th>\n",
              "      <td>3.2</td>\n",
              "      <td>27</td>\n",
              "      <td>33.745575</td>\n",
              "    </tr>\n",
              "    <tr>\n",
              "      <th>2</th>\n",
              "      <td>7.4</td>\n",
              "      <td>69</td>\n",
              "      <td>75.500624</td>\n",
              "    </tr>\n",
              "    <tr>\n",
              "      <th>3</th>\n",
              "      <td>2.5</td>\n",
              "      <td>30</td>\n",
              "      <td>26.786400</td>\n",
              "    </tr>\n",
              "    <tr>\n",
              "      <th>4</th>\n",
              "      <td>5.9</td>\n",
              "      <td>62</td>\n",
              "      <td>60.588106</td>\n",
              "    </tr>\n",
              "    <tr>\n",
              "      <th>5</th>\n",
              "      <td>3.8</td>\n",
              "      <td>35</td>\n",
              "      <td>39.710582</td>\n",
              "    </tr>\n",
              "    <tr>\n",
              "      <th>6</th>\n",
              "      <td>1.9</td>\n",
              "      <td>24</td>\n",
              "      <td>20.821393</td>\n",
              "    </tr>\n",
              "  </tbody>\n",
              "</table>\n",
              "</div>"
            ],
            "text/plain": [
              "   Hours  Actual Marks  Predicted Marks\n",
              "0    1.5            20        16.844722\n",
              "1    3.2            27        33.745575\n",
              "2    7.4            69        75.500624\n",
              "3    2.5            30        26.786400\n",
              "4    5.9            62        60.588106\n",
              "5    3.8            35        39.710582\n",
              "6    1.9            24        20.821393"
            ]
          },
          "metadata": {
            "tags": []
          },
          "execution_count": 37
        }
      ]
    },
    {
      "cell_type": "markdown",
      "metadata": {
        "id": "z8GChOpeRMGo"
      },
      "source": [
        "**12) What will be predicted score if a student studies for 9.25 hrs/ day?**"
      ]
    },
    {
      "cell_type": "code",
      "metadata": {
        "colab": {
          "base_uri": "https://localhost:8080/"
        },
        "id": "K4gV5GbmNcrZ",
        "outputId": "958830b8-8e91-4df6-a91c-5a986834ffee"
      },
      "source": [
        "hours = [9.25]\r\n",
        "result = regression.predict([hours])\r\n",
        "print(\"Expected Score if the student studies for 9.25 hours is : {}\".format(round(result[0],2)))"
      ],
      "execution_count": null,
      "outputs": [
        {
          "output_type": "stream",
          "text": [
            "Expected Score if the student studies for 9.25 hours is : 93.89\n"
          ],
          "name": "stdout"
        }
      ]
    },
    {
      "cell_type": "markdown",
      "metadata": {
        "id": "F9h-R4dFRX4-"
      },
      "source": [
        "**13) Analysing Model**"
      ]
    },
    {
      "cell_type": "code",
      "metadata": {
        "colab": {
          "base_uri": "https://localhost:8080/"
        },
        "id": "LZZ5WU94RgMm",
        "outputId": "d77b028f-5003-401e-b2e4-692bacc8734b"
      },
      "source": [
        "# Calculating the accuracy of the model\r\n",
        "print('Mean absolute error: ',mean_absolute_error(test_y,pred_y))"
      ],
      "execution_count": null,
      "outputs": [
        {
          "output_type": "stream",
          "text": [
            "Mean absolute error:  4.130879918502482\n"
          ],
          "name": "stdout"
        }
      ]
    },
    {
      "cell_type": "code",
      "metadata": {
        "colab": {
          "base_uri": "https://localhost:8080/",
          "height": 458
        },
        "id": "4q-GUGMqOSCm",
        "outputId": "75eab722-ae1c-479d-848e-d14b7c68515c"
      },
      "source": [
        "# Figure Size \r\n",
        "fig = plt.figure(figsize =(10, 7)) \r\n",
        "\r\n",
        "#Visually Comparing the Predicted Marks with the Actual Marks\r\n",
        "plt.scatter(x=test_X, y=test_y, color='blue')\r\n",
        "plt.plot(test_X, pred_y, color='Green')\r\n",
        "plt.title('Actual vs Predicted')\r\n",
        "plt.ylabel('Marks Percentage')\r\n",
        "plt.xlabel('Hours Studied')\r\n",
        "plt.show()"
      ],
      "execution_count": null,
      "outputs": [
        {
          "output_type": "display_data",
          "data": {
            "image/png": "[encoded data removed]",
            "text/plain": [
              "<Figure size 720x504 with 1 Axes>"
            ]
          },
          "metadata": {
            "tags": [],
            "needs_background": "light"
          }
        }
      ]
    }
  ]
}